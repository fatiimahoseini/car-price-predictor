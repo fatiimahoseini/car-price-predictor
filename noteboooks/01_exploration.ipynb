{
 "cells": [
  {
   "cell_type": "code",
   "execution_count": 1,
   "id": "bab7fb80",
   "metadata": {},
   "outputs": [],
   "source": [
    "import numpy as np\n",
    "import pandas as pd"
   ]
  },
  {
   "cell_type": "code",
   "execution_count": 3,
   "id": "060ee451",
   "metadata": {},
   "outputs": [],
   "source": [
    "df = pd.read_csv('../data/raw/bama_raw_data_peugeot_20250531_150312.csv')"
   ]
  },
  {
   "cell_type": "code",
   "execution_count": 4,
   "id": "1abd729c",
   "metadata": {},
   "outputs": [
    {
     "data": {
      "text/html": [
       "<div>\n",
       "<style scoped>\n",
       "    .dataframe tbody tr th:only-of-type {\n",
       "        vertical-align: middle;\n",
       "    }\n",
       "\n",
       "    .dataframe tbody tr th {\n",
       "        vertical-align: top;\n",
       "    }\n",
       "\n",
       "    .dataframe thead th {\n",
       "        text-align: right;\n",
       "    }\n",
       "</style>\n",
       "<table border=\"1\" class=\"dataframe\">\n",
       "  <thead>\n",
       "    <tr style=\"text-align: right;\">\n",
       "      <th></th>\n",
       "      <th>full_title</th>\n",
       "      <th>year</th>\n",
       "      <th>brand</th>\n",
       "      <th>model</th>\n",
       "      <th>price</th>\n",
       "      <th>location</th>\n",
       "      <th>mileage</th>\n",
       "      <th>gearbox</th>\n",
       "      <th>ad_url</th>\n",
       "      <th>scrape_date</th>\n",
       "    </tr>\n",
       "  </thead>\n",
       "  <tbody>\n",
       "    <tr>\n",
       "      <th>0</th>\n",
       "      <td>پژو، 207</td>\n",
       "      <td>NaN</td>\n",
       "      <td>پژو،</td>\n",
       "      <td>207</td>\n",
       "      <td>745000000</td>\n",
       "      <td>تهران/توحید</td>\n",
       "      <td>صفر</td>\n",
       "      <td>گیربکس</td>\n",
       "      <td>https://bama.ir/car/detail-fgqicsn8-peugeot-20...</td>\n",
       "      <td>2025-05-31 14:59:41.120865</td>\n",
       "    </tr>\n",
       "    <tr>\n",
       "      <th>1</th>\n",
       "      <td>پژو، پارس</td>\n",
       "      <td>NaN</td>\n",
       "      <td>پژو،</td>\n",
       "      <td>پارس</td>\n",
       "      <td>830000000</td>\n",
       "      <td>شیراز/شهرکسراج</td>\n",
       "      <td>30000km</td>\n",
       "      <td>گیربکس</td>\n",
       "      <td>https://bama.ir/car/detail-j1yxzta9-peugeot-pa...</td>\n",
       "      <td>2025-05-31 14:59:42.659675</td>\n",
       "    </tr>\n",
       "    <tr>\n",
       "      <th>2</th>\n",
       "      <td>پژو، 207</td>\n",
       "      <td>NaN</td>\n",
       "      <td>پژو،</td>\n",
       "      <td>207</td>\n",
       "      <td>1030000000</td>\n",
       "      <td>تهران/جمهوری</td>\n",
       "      <td>صفر</td>\n",
       "      <td>گیربکس</td>\n",
       "      <td>https://bama.ir/car/detail-ozfl06ho-peugeot-20...</td>\n",
       "      <td>2025-05-31 14:59:44.504826</td>\n",
       "    </tr>\n",
       "    <tr>\n",
       "      <th>3</th>\n",
       "      <td>پژو، 207</td>\n",
       "      <td>NaN</td>\n",
       "      <td>پژو،</td>\n",
       "      <td>207</td>\n",
       "      <td>825000000</td>\n",
       "      <td>تهران/آزادی</td>\n",
       "      <td>صفر</td>\n",
       "      <td>گیربکس</td>\n",
       "      <td>https://bama.ir/car/detail-kflvh5jr-peugeot-20...</td>\n",
       "      <td>2025-05-31 14:59:46.599926</td>\n",
       "    </tr>\n",
       "    <tr>\n",
       "      <th>4</th>\n",
       "      <td>پژو، 207</td>\n",
       "      <td>NaN</td>\n",
       "      <td>پژو،</td>\n",
       "      <td>207</td>\n",
       "      <td>825000000</td>\n",
       "      <td>تهران/جمهوری</td>\n",
       "      <td>صفر</td>\n",
       "      <td>گیربکس</td>\n",
       "      <td>https://bama.ir/car/detail-j4lu9q6v-peugeot-20...</td>\n",
       "      <td>2025-05-31 14:59:48.985832</td>\n",
       "    </tr>\n",
       "  </tbody>\n",
       "</table>\n",
       "</div>"
      ],
      "text/plain": [
       "  full_title  year brand model       price        location  mileage gearbox  \\\n",
       "0   پژو، 207   NaN  پژو،   207   745000000     تهران/توحید      صفر  گیربکس   \n",
       "1  پژو، پارس   NaN  پژو،  پارس   830000000  شیراز/شهرکسراج  30000km  گیربکس   \n",
       "2   پژو، 207   NaN  پژو،   207  1030000000    تهران/جمهوری      صفر  گیربکس   \n",
       "3   پژو، 207   NaN  پژو،   207   825000000     تهران/آزادی      صفر  گیربکس   \n",
       "4   پژو، 207   NaN  پژو،   207   825000000    تهران/جمهوری      صفر  گیربکس   \n",
       "\n",
       "                                              ad_url  \\\n",
       "0  https://bama.ir/car/detail-fgqicsn8-peugeot-20...   \n",
       "1  https://bama.ir/car/detail-j1yxzta9-peugeot-pa...   \n",
       "2  https://bama.ir/car/detail-ozfl06ho-peugeot-20...   \n",
       "3  https://bama.ir/car/detail-kflvh5jr-peugeot-20...   \n",
       "4  https://bama.ir/car/detail-j4lu9q6v-peugeot-20...   \n",
       "\n",
       "                  scrape_date  \n",
       "0  2025-05-31 14:59:41.120865  \n",
       "1  2025-05-31 14:59:42.659675  \n",
       "2  2025-05-31 14:59:44.504826  \n",
       "3  2025-05-31 14:59:46.599926  \n",
       "4  2025-05-31 14:59:48.985832  "
      ]
     },
     "execution_count": 4,
     "metadata": {},
     "output_type": "execute_result"
    }
   ],
   "source": [
    "df.head()"
   ]
  },
  {
   "cell_type": "code",
   "execution_count": 5,
   "id": "6e141408",
   "metadata": {},
   "outputs": [
    {
     "data": {
      "text/plain": [
       "np.int64(101)"
      ]
     },
     "execution_count": 5,
     "metadata": {},
     "output_type": "execute_result"
    }
   ],
   "source": [
    "df['year'].isnull().sum()"
   ]
  },
  {
   "cell_type": "code",
   "execution_count": 7,
   "id": "ed615784",
   "metadata": {},
   "outputs": [
    {
     "name": "stdout",
     "output_type": "stream",
     "text": [
      "<class 'pandas.core.frame.DataFrame'>\n",
      "RangeIndex: 101 entries, 0 to 100\n",
      "Data columns (total 10 columns):\n",
      " #   Column       Non-Null Count  Dtype  \n",
      "---  ------       --------------  -----  \n",
      " 0   full_title   101 non-null    object \n",
      " 1   year         0 non-null      float64\n",
      " 2   brand        101 non-null    object \n",
      " 3   model        101 non-null    object \n",
      " 4   price        101 non-null    object \n",
      " 5   location     101 non-null    object \n",
      " 6   mileage      101 non-null    object \n",
      " 7   gearbox      101 non-null    object \n",
      " 8   ad_url       101 non-null    object \n",
      " 9   scrape_date  101 non-null    object \n",
      "dtypes: float64(1), object(9)\n",
      "memory usage: 8.0+ KB\n"
     ]
    }
   ],
   "source": [
    "df.info()"
   ]
  }
 ],
 "metadata": {
  "kernelspec": {
   "display_name": "venv",
   "language": "python",
   "name": "python3"
  },
  "language_info": {
   "codemirror_mode": {
    "name": "ipython",
    "version": 3
   },
   "file_extension": ".py",
   "mimetype": "text/x-python",
   "name": "python",
   "nbconvert_exporter": "python",
   "pygments_lexer": "ipython3",
   "version": "3.12.10"
  }
 },
 "nbformat": 4,
 "nbformat_minor": 5
}
